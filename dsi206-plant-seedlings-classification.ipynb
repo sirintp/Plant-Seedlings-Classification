{
 "cells": [
  {
   "cell_type": "markdown",
   "id": "c0e4713c",
   "metadata": {
    "papermill": {
     "duration": 0.008087,
     "end_time": "2024-01-22T09:10:35.227081",
     "exception": false,
     "start_time": "2024-01-22T09:10:35.218994",
     "status": "completed"
    },
    "tags": []
   },
   "source": [
    "# <div style=\"color:#ADEFD1FF;background-color:#00203FFF;padding:2%;border-radius:15px 15px;font-size:1em;text-align:center\">DSI206 Plant Seedlings classification </div>\n",
    "<div style=\"color:#00203FFF;\n",
    "           font-size:110%;\n",
    "           \">โจทย์ก็คือเราจะต้องทำการจำแนกและระบุพันธุ์ของเมล็ดพืชในแต่ละรูปที่ได้รับมา <br>\n",
    "โดยสมาชิกของพวกเรามี ดังนี้ <br>\n",
    "1. นางสาวสิรินธร ผาไชย 6424650023 <br>\n",
    "2. นางสาวปริตา ต้นวงษ์ 6424650122 <br>\n",
    "3. นางสาวณัชชา ศรีลาชัย 6424650288 <br>\n",
    "4. นางสาวนันท์นภัส วงศ์สิริเจริญ 6424650544 <br>\n",
    "5. นางสาววิชญา เยี่ยมเพื่อน 6424650619 </div>\n"
   ]
  },
  {
   "cell_type": "markdown",
   "id": "ec8fae6f",
   "metadata": {
    "papermill": {
     "duration": 0.007874,
     "end_time": "2024-01-22T09:10:35.242618",
     "exception": false,
     "start_time": "2024-01-22T09:10:35.234744",
     "status": "completed"
    },
    "tags": []
   },
   "source": [
    "<div style=\"color:#00203FFF;\n",
    "           font-size:110%;\n",
    "           \">\n",
    "    <b>Data Description</b>\n",
    "    <br>ใน dataset ของเราจะมีพันธุ์พืชทั้งหมด 12 สายพันธุ์ (Species) <br>\n",
    "1. Black-grass <br>\n",
    "2. Charlock <br>\n",
    "3. Cleavers <br>\n",
    "4. Common Chickweed <br>\n",
    "5. Common wheat <br>\n",
    "6. Fat Hen <br>\n",
    "7. Loose Silky-bent <br>\n",
    "8. Maize <br>\n",
    "9. Scentless Mayweed <br>\n",
    "10. Shepherds Purse <br>\n",
    "11. Small-flowered Cranesbill <br>\n",
    "12. Sugar beet <br>\n",
    "    <b>Objectives</b> <br>\n",
    "1. สร้างโมเดลที่สามารถระบุสายพันธุ์ของพืชที่อยู่ในรูปได้\n",
    "</div>"
   ]
  },
  {
   "cell_type": "markdown",
   "id": "e25d733a",
   "metadata": {
    "papermill": {
     "duration": 0.007372,
     "end_time": "2024-01-22T09:10:35.257706",
     "exception": false,
     "start_time": "2024-01-22T09:10:35.250334",
     "status": "completed"
    },
    "tags": []
   },
   "source": [
    "# <div style= \"color:#ADEFD1FF;display:inline-block;border-radius:30px;background-color:#00203FFF;font-block:Nexa;overflow:hidden\"><p style=\"padding:15px;color:#ADEFD1FF;overflow:hidden;font-size:70%;letter-spacing:0.5px;margin:0\"><b> </b>Table of Contents📰</p></div>\n",
    "    \n",
    "* [Loading Libraries📚](#intLink)\n",
    "* [Reading Data Files📂](#files)\n",
    "* [Data Exploration🔎](#explore)\n",
    "* [Data Preparation📦](#pre)\n",
    "* [Data Modeling📈](#model)\n",
    "* [Model Evaluation🧪](#evaluate)"
   ]
  },
  {
   "cell_type": "markdown",
   "id": "6bba9346",
   "metadata": {
    "papermill": {
     "duration": 0.007406,
     "end_time": "2024-01-22T09:10:35.272697",
     "exception": false,
     "start_time": "2024-01-22T09:10:35.265291",
     "status": "completed"
    },
    "tags": []
   },
   "source": [
    "# <div style=\"color:#ADEFD1FF;display:inline-block;border-radius:30px;background-color:#00203FFF;font-block:Nexa;overflow:hidden\"><p style=\"padding:15px;color:#ADEFD1FF;overflow:hidden;font-size:70%;letter-spacing:0.5px;margin:0\" id=\"intLink\"><b> </b> Loading Libraries📚</p></div>"
   ]
  },
  {
   "cell_type": "markdown",
   "id": "eb99082a",
   "metadata": {
    "papermill": {
     "duration": 0.007371,
     "end_time": "2024-01-22T09:10:35.287534",
     "exception": false,
     "start_time": "2024-01-22T09:10:35.280163",
     "status": "completed"
    },
    "tags": []
   },
   "source": [
    "Import libraries ทั่วไป"
   ]
  },
  {
   "cell_type": "code",
   "execution_count": 1,
   "id": "301cb6e3",
   "metadata": {
    "execution": {
     "iopub.execute_input": "2024-01-22T09:10:35.304664Z",
     "iopub.status.busy": "2024-01-22T09:10:35.304248Z",
     "iopub.status.idle": "2024-01-22T09:10:36.389511Z",
     "shell.execute_reply": "2024-01-22T09:10:36.388516Z"
    },
    "papermill": {
     "duration": 1.09705,
     "end_time": "2024-01-22T09:10:36.392204",
     "exception": false,
     "start_time": "2024-01-22T09:10:35.295154",
     "status": "completed"
    },
    "tags": []
   },
   "outputs": [],
   "source": [
    "import os\n",
    "import numpy as np\n",
    "import pandas as pd\n",
    "import matplotlib\n",
    "import matplotlib.pyplot as plt\n",
    "import pickle as p\n",
    "import plotly\n",
    "import random\n",
    "from prettytable import PrettyTable\n",
    "import shutil\n",
    "import cv2\n",
    "import PIL\n",
    "from glob import glob\n",
    "import plotly.graph_objs as go\n",
    "from math import sqrt, floor"
   ]
  },
  {
   "cell_type": "markdown",
   "id": "718d29a0",
   "metadata": {
    "papermill": {
     "duration": 0.007935,
     "end_time": "2024-01-22T09:10:36.408194",
     "exception": false,
     "start_time": "2024-01-22T09:10:36.400259",
     "status": "completed"
    },
    "tags": []
   },
   "source": [
    "Pipeline Specifics"
   ]
  },
  {
   "cell_type": "code",
   "execution_count": 2,
   "id": "033b95e3",
   "metadata": {
    "execution": {
     "iopub.execute_input": "2024-01-22T09:10:36.426512Z",
     "iopub.status.busy": "2024-01-22T09:10:36.426012Z",
     "iopub.status.idle": "2024-01-22T09:10:49.815575Z",
     "shell.execute_reply": "2024-01-22T09:10:49.814467Z"
    },
    "papermill": {
     "duration": 13.401955,
     "end_time": "2024-01-22T09:10:49.818089",
     "exception": false,
     "start_time": "2024-01-22T09:10:36.416134",
     "status": "completed"
    },
    "tags": []
   },
   "outputs": [
    {
     "name": "stderr",
     "output_type": "stream",
     "text": [
      "/opt/conda/lib/python3.10/site-packages/scipy/__init__.py:146: UserWarning: A NumPy version >=1.16.5 and <1.23.0 is required for this version of SciPy (detected version 1.24.3\n",
      "  warnings.warn(f\"A NumPy version >={np_minversion} and <{np_maxversion}\"\n"
     ]
    }
   ],
   "source": [
    "import tensorflow as tf\n",
    "from tensorflow.keras import layers\n",
    "from tensorflow.keras.models import load_model\n",
    "from tensorflow.keras.models import model_from_json\n",
    "from tensorflow import keras\n",
    "from tensorflow.keras.models import Sequential\n",
    "from keras.preprocessing import image\n",
    "from keras import models, layers, callbacks\n",
    "from tensorflow.keras.preprocessing import image\n",
    "from keras.preprocessing.image import ImageDataGenerator\n",
    "from keras.callbacks import ModelCheckpoint, ReduceLROnPlateau, CSVLogger\n",
    "from sklearn import preprocessing\n",
    "from tensorflow.keras.utils import to_categorical"
   ]
  },
  {
   "cell_type": "markdown",
   "id": "d2d31cd0",
   "metadata": {
    "papermill": {
     "duration": 0.007737,
     "end_time": "2024-01-22T09:10:49.834198",
     "exception": false,
     "start_time": "2024-01-22T09:10:49.826461",
     "status": "completed"
    },
    "tags": []
   },
   "source": [
    "# <div style=\"color:#ADEFD1FF;display:inline-block;border-radius:30px;background-color:#00203FFF;font-block:Nexa;overflow:hidden\"><p style=\"padding:15px;color:#ADEFD1FF;overflow:hidden;font-size:70%;letter-spacing:0.5px;margin:0\" id=\"files\"><b> </b> Reading Data Files📂</p></div>"
   ]
  },
  {
   "cell_type": "code",
   "execution_count": 3,
   "id": "2b38e53f",
   "metadata": {
    "execution": {
     "iopub.execute_input": "2024-01-22T09:10:49.852254Z",
     "iopub.status.busy": "2024-01-22T09:10:49.851312Z",
     "iopub.status.idle": "2024-01-22T09:10:49.856442Z",
     "shell.execute_reply": "2024-01-22T09:10:49.855460Z"
    },
    "papermill": {
     "duration": 0.016547,
     "end_time": "2024-01-22T09:10:49.858558",
     "exception": false,
     "start_time": "2024-01-22T09:10:49.842011",
     "status": "completed"
    },
    "tags": []
   },
   "outputs": [],
   "source": [
    "import pathlib\n",
    "dataset=\"../input/plant-seedlings-classification/train\" \n",
    "data_dir = pathlib.Path(dataset)   "
   ]
  },
  {
   "cell_type": "markdown",
   "id": "37affd0c",
   "metadata": {
    "papermill": {
     "duration": 0.00833,
     "end_time": "2024-01-22T09:10:49.875157",
     "exception": false,
     "start_time": "2024-01-22T09:10:49.866827",
     "status": "completed"
    },
    "tags": []
   },
   "source": [
    "# <div style=\"color:#ADEFD1FF;display:inline-block;border-radius:30px;background-color:#00203FFF;font-block:Nexa;overflow:hidden\"><p style=\"padding:15px;color:#ADEFD1FF;overflow:hidden;font-size:70%;letter-spacing:0.5px;margin:0\" id=\"explore\"><b> </b> Data Exploration🔎</p></div>"
   ]
  },
  {
   "cell_type": "code",
   "execution_count": 4,
   "id": "a035d41f",
   "metadata": {
    "execution": {
     "iopub.execute_input": "2024-01-22T09:10:49.892878Z",
     "iopub.status.busy": "2024-01-22T09:10:49.892501Z",
     "iopub.status.idle": "2024-01-22T09:10:51.069701Z",
     "shell.execute_reply": "2024-01-22T09:10:51.068614Z"
    },
    "papermill": {
     "duration": 1.188878,
     "end_time": "2024-01-22T09:10:51.072098",
     "exception": false,
     "start_time": "2024-01-22T09:10:49.883220",
     "status": "completed"
    },
    "tags": []
   },
   "outputs": [
    {
     "name": "stdout",
     "output_type": "stream",
     "text": [
      "จำนวนรูปทั้งหมด :  4750\n"
     ]
    }
   ],
   "source": [
    "image_count = len(list(data_dir.glob('*/*.png')))\n",
    "print(\"จำนวนรูปทั้งหมด : \",image_count)"
   ]
  },
  {
   "cell_type": "code",
   "execution_count": 5,
   "id": "9b6fa257",
   "metadata": {
    "_kg_hide-input": true,
    "execution": {
     "iopub.execute_input": "2024-01-22T09:10:51.090104Z",
     "iopub.status.busy": "2024-01-22T09:10:51.089706Z",
     "iopub.status.idle": "2024-01-22T09:10:51.496816Z",
     "shell.execute_reply": "2024-01-22T09:10:51.495846Z"
    },
    "papermill": {
     "duration": 0.419126,
     "end_time": "2024-01-22T09:10:51.499598",
     "exception": false,
     "start_time": "2024-01-22T09:10:51.080472",
     "status": "completed"
    },
    "tags": []
   },
   "outputs": [
    {
     "data": {
      "image/png": "[encoded data removed]",
      "text/plain": [
       "<Figure size 640x480 with 1 Axes>"
      ]
     },
     "metadata": {},
     "output_type": "display_data"
    }
   ],
   "source": [
    "classes= []\n",
    "sample_counts= []\n",
    "\n",
    "for f in os.listdir('../input/plant-seedlings-classification/train'):\n",
    "    train_class_path= os.path.join('../input/plant-seedlings-classification/train', f)\n",
    "    if os.path.isdir(train_class_path):\n",
    "        classes.append(f)\n",
    "        sample_counts.append(len(os.listdir(train_class_path)))\n",
    "\n",
    "plt.rcdefaults()\n",
    "fig, ax = plt.subplots()\n",
    "\n",
    "# Example data\n",
    "y_pos = np.arange(len(classes) )\n",
    "hbar = ax.barh(y_pos, sample_counts, align='center')\n",
    "#ทำเป็นแนวตั้งแล้วตัวหนังสือซ้อนกัน อ่านchartยาก\n",
    "ax.bar_label(hbar)\n",
    "ax.set_yticks(y_pos)\n",
    "ax.set_yticklabels(classes)\n",
    "\n",
    "ax.invert_yaxis() # labels read top-to-bottom\n",
    "ax.set_xlabel (\"Sample Counts\")\n",
    "ax.set_title (\"Sample Counts Per Class\")\n",
    "plt.show()"
   ]
  },
  {
   "cell_type": "markdown",
   "id": "61a7446c",
   "metadata": {
    "papermill": {
     "duration": 0.008744,
     "end_time": "2024-01-22T09:10:51.517640",
     "exception": false,
     "start_time": "2024-01-22T09:10:51.508896",
     "status": "completed"
    },
    "tags": []
   },
   "source": [
    "ดูจำนวนตัวอย่างของแต่ละสายพันธุ์ที่ dataset ให้เรามาในชุดข้อมูล train ทั้งหมด 4750 รูป ซึ่งปรากฏว่า <br>\n",
    "1. Black-grass มี 263 รูป<br>\n",
    "2. Charlock มี 390 รูป<br>\n",
    "3. Cleavers มี 287 รูป<br>\n",
    "4. Common Chickweed มี 611 รูป<br>\n",
    "5. Common wheat มี 221 รูป<br>\n",
    "6. Fat Hen มี 475 รูป<br>\n",
    "7. Loose Silky-bent มี 654 รูป<br>\n",
    "8. Maize มี 221 รูป<br>\n",
    "9. Scentless Mayweed มี 516 รูป<br>\n",
    "10. Shepherds Purse มี 231 รูป<br>\n",
    "11. Small-flowered Cranesbill มี 496 รูป<br>\n",
    "12. Sugar beet มี 385 รูป<br>"
   ]
  },
  {
   "cell_type": "markdown",
   "id": "2358aed9",
   "metadata": {
    "papermill": {
     "duration": 0.00881,
     "end_time": "2024-01-22T09:10:51.535329",
     "exception": false,
     "start_time": "2024-01-22T09:10:51.526519",
     "status": "completed"
    },
    "tags": []
   },
   "source": [
    "# <div style=\"color:#ADEFD1FF;display:inline-block;border-radius:30px;background-color:#00203FFF;font-block:Nexa;overflow:hidden\"><p style=\"padding:15px;color:#ADEFD1FF;overflow:hidden;font-size:70%;letter-spacing:0.5px;margin:0\" id=\"pre\"><b> </b> Data Preparation📦</p></div>"
   ]
  },
  {
   "cell_type": "markdown",
   "id": "6efcf843",
   "metadata": {
    "papermill": {
     "duration": 0.008449,
     "end_time": "2024-01-22T09:10:51.553274",
     "exception": false,
     "start_time": "2024-01-22T09:10:51.544825",
     "status": "completed"
    },
    "tags": []
   },
   "source": [
    "**ระบุ parameter สำหรับการเทรน**\n",
    "\n",
    "เราจะมีการระบุรอบของการเทรน (nb_epoch), จำนวนรูปใน 1 กลุ่ม (batch_size), ความก้างและความยาวของรูปในหน่วยพิกเซล (wigth, height) และการกำหนดชื่อให้แต่ละสปีชีส์ (species_list) สำหรับไฟล์ submission"
   ]
  },
  {
   "cell_type": "code",
   "execution_count": 6,
   "id": "12cd87bc",
   "metadata": {
    "execution": {
     "iopub.execute_input": "2024-01-22T09:10:51.572634Z",
     "iopub.status.busy": "2024-01-22T09:10:51.571747Z",
     "iopub.status.idle": "2024-01-22T09:10:51.577290Z",
     "shell.execute_reply": "2024-01-22T09:10:51.576310Z"
    },
    "papermill": {
     "duration": 0.017489,
     "end_time": "2024-01-22T09:10:51.579430",
     "exception": false,
     "start_time": "2024-01-22T09:10:51.561941",
     "status": "completed"
    },
    "tags": []
   },
   "outputs": [],
   "source": [
    "nb_epoch     = 40\n",
    "batch_size   = 19\n",
    "width        = 300\n",
    "height       = 300\n",
    "# s = define_generators()\n",
    "# species = s(species)\n",
    "# print(species)\n",
    "species_list = [\"Black-grass\", \"Charlock\", \"Cleavers\", \"Common Chickweed\", \"Common wheat\", \"Fat Hen\",\n",
    "                \"Loose Silky-bent\", \"Maize\", \"Scentless Mayweed\", \"Shepherds Purse\", \"Small-flowered Cranesbill\",\n",
    "                \"Sugar beet\"]"
   ]
  },
  {
   "cell_type": "markdown",
   "id": "9f2f027c",
   "metadata": {
    "papermill": {
     "duration": 0.008725,
     "end_time": "2024-01-22T09:10:51.597048",
     "exception": false,
     "start_time": "2024-01-22T09:10:51.588323",
     "status": "completed"
    },
    "tags": []
   },
   "source": [
    "**define the neural network**\n",
    "\n",
    "ส่วนของฟังก์ชั่นในการกำหนดว่าโมเดลของเราจะใช้อะไรในการเรียนร้ ภายในโมเดลจะทำอะไรกับข้อมูลบ้าง ซคางในที่นี้เราได้ทำการใช้ build-in module สำหรับ <b> Inception-ResNet V2 ใน tf.keras</b>"
   ]
  },
  {
   "cell_type": "code",
   "execution_count": 7,
   "id": "8b3af62b",
   "metadata": {
    "execution": {
     "iopub.execute_input": "2024-01-22T09:10:51.616620Z",
     "iopub.status.busy": "2024-01-22T09:10:51.615963Z",
     "iopub.status.idle": "2024-01-22T09:10:51.624157Z",
     "shell.execute_reply": "2024-01-22T09:10:51.623219Z"
    },
    "papermill": {
     "duration": 0.020276,
     "end_time": "2024-01-22T09:10:51.626154",
     "exception": false,
     "start_time": "2024-01-22T09:10:51.605878",
     "status": "completed"
    },
    "tags": []
   },
   "outputs": [],
   "source": [
    "def define_model(width, height):\n",
    "    model_input = tf.keras.layers.Input(shape=(width, height, 3), name='image_input')\n",
    "# Preprocesses a tensor or Numpy array encoding a batch of images.\n",
    "    model_main = tf.keras.applications.inception_resnet_v2.InceptionResNetV2(include_top=False, weights='imagenet')(model_input)\n",
    "    model_dense1 = tf.keras.layers.Flatten()(model_main)\n",
    "    model_dense2 = tf.keras.layers.Dense(128, activation='relu')(model_dense1)\n",
    "    model_out = tf.keras.layers.Dense(12, activation=\"softmax\")(model_dense2)\n",
    "\n",
    "    model = tf.keras.models.Model(model_input,  model_out)\n",
    "    optimizer = tf.keras.optimizers.Adam(learning_rate=0.00004, beta_1=0.9, beta_2=0.999)\n",
    "    model.compile(loss=\"categorical_crossentropy\", optimizer=optimizer, metrics=[\"accuracy\"])\n",
    "    return model"
   ]
  },
  {
   "cell_type": "markdown",
   "id": "9968d327",
   "metadata": {
    "papermill": {
     "duration": 0.008332,
     "end_time": "2024-01-22T09:10:51.643524",
     "exception": false,
     "start_time": "2024-01-22T09:10:51.635192",
     "status": "completed"
    },
    "tags": []
   },
   "source": [
    "เราได้ทำการสร้างฟังก์ชั่น define_generators ขึ้นมาเพื่อเตรียมข้อมูลรูปภาพสำหรับการเรียนรู้โมเดล"
   ]
  },
  {
   "cell_type": "code",
   "execution_count": 8,
   "id": "b76f3a43",
   "metadata": {
    "execution": {
     "iopub.execute_input": "2024-01-22T09:10:51.662750Z",
     "iopub.status.busy": "2024-01-22T09:10:51.662073Z",
     "iopub.status.idle": "2024-01-22T09:10:51.671297Z",
     "shell.execute_reply": "2024-01-22T09:10:51.670330Z"
    },
    "papermill": {
     "duration": 0.021246,
     "end_time": "2024-01-22T09:10:51.673432",
     "exception": false,
     "start_time": "2024-01-22T09:10:51.652186",
     "status": "completed"
    },
    "tags": []
   },
   "outputs": [],
   "source": [
    "def define_generators():\n",
    "    train_datagen = tf.keras.preprocessing.image.ImageDataGenerator(\n",
    "        rotation_range=360,\n",
    "        width_shift_range=0.3,\n",
    "        height_shift_range=0.3,\n",
    "        shear_range=0.3,\n",
    "        zoom_range=0.5,\n",
    "        vertical_flip=True,\n",
    "        horizontal_flip=True,\n",
    "        validation_split=0.2, # change to use validation instead of training on entire training set\n",
    "    )\n",
    "\n",
    "    train_generator = train_datagen.flow_from_directory(\n",
    "        directory='/kaggle/input/plant-seedlings-classification/train',\n",
    "        target_size=(width, height),\n",
    "        batch_size=batch_size,\n",
    "        color_mode='rgb',\n",
    "        class_mode=\"categorical\",\n",
    "        subset='training',\n",
    "    )\n",
    "\n",
    "    validation_generator = train_datagen.flow_from_directory(\n",
    "        directory='/kaggle/input/plant-seedlings-classification/train',\n",
    "        target_size=(width, height),\n",
    "        batch_size=batch_size,\n",
    "        color_mode='rgb',\n",
    "        class_mode=\"categorical\",\n",
    "        subset='validation',\n",
    "    )\n",
    "\n",
    "    test_datagen = tf.keras.preprocessing.image.ImageDataGenerator()\n",
    "\n",
    "    test_generator = test_datagen.flow_from_directory(\n",
    "        directory='/kaggle/input/plant-seedlings-classification/',\n",
    "        classes=['test'],\n",
    "        target_size=(width, height),\n",
    "        batch_size=1,\n",
    "        color_mode='rgb',\n",
    "        shuffle=False,\n",
    "        class_mode='categorical')\n",
    "#     species = train_generator.class_names\n",
    "    return train_generator, validation_generator, test_generator"
   ]
  },
  {
   "cell_type": "markdown",
   "id": "ff828d24",
   "metadata": {
    "papermill": {
     "duration": 0.008742,
     "end_time": "2024-01-22T09:10:51.691381",
     "exception": false,
     "start_time": "2024-01-22T09:10:51.682639",
     "status": "completed"
    },
    "tags": []
   },
   "source": [
    "สิ่งที่เราทำคือใน <br>\n",
    "**train_datagen** เราได้มีการหมุนรูปภาพแบบสุ่ม เลื่อนรูปภาพในแนวนอน-แนวต้ง บิดรูปภาพ ย่อ-ขยายรูปภาพ และพลิกรูปภาพในแนวนอนแนวตั้งแบบสุ่มซึ่งทั้งหมดนี้เราทำเพื่อเพิ่มความหลากหลายของรูปแบบรูปภาพที่โมเดลอาจจะพบเจอ และนอกจากนี้ใน train_datagen เราได้กำหนดข้อมูลไว้สำหรับ validation ไว้อีก 20% <br>\n",
    "**train_generator และ validation_generator** เราสร้างขึ้นมาเพื่อใช้ในการดึงรูปภาพจากโฟลเดอร์ ในตัวแปรจะมีการปรับขนาดรูปภาพ แบ่งชุดข้อมูลและกำหนดลักษณะของข้อมูล เช่น การกำหนดรูปแบบของสีเป็น RGB <br>\n",
    "และตัวแปรสุดท้าย **test_generator** เช่นกันเราใช้ในการดึงรูปภาพจากโฟลเดอร์สำหรับชุดข้อมูลทดสอบ\n",
    "และมีการกำหนดลักษณะข้อมูลเช่นการปรับขนาดรูปภาพ ระบุรูปแบบสี และกำหนดให้ประมวลผลรูปภาพทีละรูป (batch_size=1)\n",
    "ไม่สลับลำดับรูปภาพ (shuffle=False) และกำหนดให้มีข้อมูลประเภทของพืช (คลาส)"
   ]
  },
  {
   "cell_type": "markdown",
   "id": "7362640b",
   "metadata": {
    "papermill": {
     "duration": 0.008505,
     "end_time": "2024-01-22T09:10:51.708835",
     "exception": false,
     "start_time": "2024-01-22T09:10:51.700330",
     "status": "completed"
    },
    "tags": []
   },
   "source": [
    "**Define the checkpoint**\n",
    "\n",
    "เรามีการกำหนด callbacks สำหรบโมเดลเพื่อติดตามประสิทธิภาพการทำงานของโมเดล"
   ]
  },
  {
   "cell_type": "code",
   "execution_count": 9,
   "id": "073c43cd",
   "metadata": {
    "execution": {
     "iopub.execute_input": "2024-01-22T09:10:51.727489Z",
     "iopub.status.busy": "2024-01-22T09:10:51.726767Z",
     "iopub.status.idle": "2024-01-22T09:10:51.731766Z",
     "shell.execute_reply": "2024-01-22T09:10:51.730881Z"
    },
    "papermill": {
     "duration": 0.016409,
     "end_time": "2024-01-22T09:10:51.733715",
     "exception": false,
     "start_time": "2024-01-22T09:10:51.717306",
     "status": "completed"
    },
    "tags": []
   },
   "outputs": [],
   "source": [
    "def define_callbacks():\n",
    "    save_callback = tf.keras.callbacks.ModelCheckpoint(\n",
    "        filepath='model.h5',\n",
    "        monitor='val_acc',\n",
    "        save_best_only=True,\n",
    "        verbose=1\n",
    "    )\n",
    "\n",
    "    return save_callback"
   ]
  },
  {
   "cell_type": "markdown",
   "id": "44444d15",
   "metadata": {
    "papermill": {
     "duration": 0.008296,
     "end_time": "2024-01-22T09:10:51.750370",
     "exception": false,
     "start_time": "2024-01-22T09:10:51.742074",
     "status": "completed"
    },
    "tags": []
   },
   "source": [
    "# <div style=\"color:#ADEFD1FF;display:inline-block;border-radius:30px;background-color:#00203FFF;font-block:Nexa;overflow:hidden\"><p style=\"padding:15px;color:#ADEFD1FF;overflow:hidden;font-size:70%;letter-spacing:0.5px;margin:0\" id=\"model\"><b> </b> Data Modeling📈</p></div>"
   ]
  },
  {
   "cell_type": "markdown",
   "id": "0c9ae7ce",
   "metadata": {
    "papermill": {
     "duration": 0.008084,
     "end_time": "2024-01-22T09:10:51.766909",
     "exception": false,
     "start_time": "2024-01-22T09:10:51.758825",
     "status": "completed"
    },
    "tags": []
   },
   "source": [
    "**define the model and fit**"
   ]
  },
  {
   "cell_type": "code",
   "execution_count": 10,
   "id": "07725833",
   "metadata": {
    "execution": {
     "iopub.execute_input": "2024-01-22T09:10:51.785357Z",
     "iopub.status.busy": "2024-01-22T09:10:51.784654Z",
     "iopub.status.idle": "2024-01-22T09:11:03.155555Z",
     "shell.execute_reply": "2024-01-22T09:11:03.154707Z"
    },
    "papermill": {
     "duration": 11.382546,
     "end_time": "2024-01-22T09:11:03.157828",
     "exception": false,
     "start_time": "2024-01-22T09:10:51.775282",
     "status": "completed"
    },
    "tags": []
   },
   "outputs": [
    {
     "name": "stdout",
     "output_type": "stream",
     "text": [
      "Downloading data from https://storage.googleapis.com/tensorflow/keras-applications/inception_resnet_v2/inception_resnet_v2_weights_tf_dim_ordering_tf_kernels_notop.h5\n",
      "219055592/219055592 [==============================] - 1s 0us/step\n",
      "Model: \"model\"\n",
      "_________________________________________________________________\n",
      " Layer (type)                Output Shape              Param #   \n",
      "=================================================================\n",
      " image_input (InputLayer)    [(None, 300, 300, 3)]     0         \n",
      "                                                                 \n",
      " inception_resnet_v2 (Funct  (None, None, None, 1536   54336736  \n",
      " ional)                      )                                   \n",
      "                                                                 \n",
      " flatten (Flatten)           (None, 98304)             0         \n",
      "                                                                 \n",
      " dense (Dense)               (None, 128)               12583040  \n",
      "                                                                 \n",
      " dense_1 (Dense)             (None, 12)                1548      \n",
      "                                                                 \n",
      "=================================================================\n",
      "Total params: 66921324 (255.28 MB)\n",
      "Trainable params: 66860780 (255.05 MB)\n",
      "Non-trainable params: 60544 (236.50 KB)\n",
      "_________________________________________________________________\n",
      "Found 3803 images belonging to 12 classes.\n",
      "Found 947 images belonging to 12 classes.\n",
      "Found 794 images belonging to 1 classes.\n"
     ]
    }
   ],
   "source": [
    "model = define_model(width, height)\n",
    "model.summary()\n",
    "train_generator, validation_generator, test_generator = define_generators()\n",
    "save_callback = define_callbacks()"
   ]
  },
  {
   "cell_type": "code",
   "execution_count": 11,
   "id": "9d84b618",
   "metadata": {
    "execution": {
     "iopub.execute_input": "2024-01-22T09:11:03.185381Z",
     "iopub.status.busy": "2024-01-22T09:11:03.184995Z",
     "iopub.status.idle": "2024-01-22T11:05:29.753029Z",
     "shell.execute_reply": "2024-01-22T11:05:29.751973Z"
    },
    "papermill": {
     "duration": 6867.327698,
     "end_time": "2024-01-22T11:05:30.498360",
     "exception": false,
     "start_time": "2024-01-22T09:11:03.170662",
     "status": "completed"
    },
    "tags": []
   },
   "outputs": [
    {
     "name": "stdout",
     "output_type": "stream",
     "text": [
      "Epoch 1/40\n",
      "200/200 [==============================] - 310s 1s/step - loss: 1.5956 - accuracy: 0.4588 - val_loss: 0.7898 - val_accuracy: 0.7240\n",
      "Epoch 2/40\n",
      "200/200 [==============================] - 169s 843ms/step - loss: 0.5420 - accuracy: 0.8147 - val_loss: 0.4511 - val_accuracy: 0.8636\n",
      "Epoch 3/40\n",
      "200/200 [==============================] - 168s 841ms/step - loss: 0.3792 - accuracy: 0.8655 - val_loss: 0.4664 - val_accuracy: 0.9001\n",
      "Epoch 4/40\n",
      "200/200 [==============================] - 170s 850ms/step - loss: 0.3212 - accuracy: 0.8906 - val_loss: 0.3192 - val_accuracy: 0.9044\n",
      "Epoch 5/40\n",
      "200/200 [==============================] - 169s 845ms/step - loss: 0.2423 - accuracy: 0.9136 - val_loss: 0.3343 - val_accuracy: 0.9012\n",
      "Epoch 6/40\n",
      "200/200 [==============================] - 167s 836ms/step - loss: 0.2175 - accuracy: 0.9197 - val_loss: 0.5218 - val_accuracy: 0.9012\n",
      "Epoch 7/40\n",
      "200/200 [==============================] - 167s 832ms/step - loss: 0.2135 - accuracy: 0.9223 - val_loss: 0.2821 - val_accuracy: 0.9119\n",
      "Epoch 8/40\n",
      "200/200 [==============================] - 166s 831ms/step - loss: 0.2099 - accuracy: 0.9276 - val_loss: 0.8975 - val_accuracy: 0.9076\n",
      "Epoch 9/40\n",
      "200/200 [==============================] - 169s 846ms/step - loss: 0.1634 - accuracy: 0.9432 - val_loss: 0.3147 - val_accuracy: 0.9248\n",
      "Epoch 10/40\n",
      "200/200 [==============================] - 167s 833ms/step - loss: 0.1661 - accuracy: 0.9453 - val_loss: 0.3208 - val_accuracy: 0.9033\n",
      "Epoch 11/40\n",
      "200/200 [==============================] - 169s 844ms/step - loss: 0.1614 - accuracy: 0.9442 - val_loss: 0.2317 - val_accuracy: 0.9302\n",
      "Epoch 12/40\n",
      "200/200 [==============================] - 168s 838ms/step - loss: 0.1400 - accuracy: 0.9506 - val_loss: 0.2333 - val_accuracy: 0.9291\n",
      "Epoch 13/40\n",
      "200/200 [==============================] - 166s 830ms/step - loss: 0.1523 - accuracy: 0.9501 - val_loss: 0.2060 - val_accuracy: 0.9409\n",
      "Epoch 14/40\n",
      "200/200 [==============================] - 168s 838ms/step - loss: 0.1269 - accuracy: 0.9516 - val_loss: 0.2402 - val_accuracy: 0.9302\n",
      "Epoch 15/40\n",
      "200/200 [==============================] - 168s 841ms/step - loss: 0.1158 - accuracy: 0.9619 - val_loss: 0.1620 - val_accuracy: 0.9613\n",
      "Epoch 16/40\n",
      "200/200 [==============================] - 170s 850ms/step - loss: 0.1002 - accuracy: 0.9627 - val_loss: 0.1883 - val_accuracy: 0.9431\n",
      "Epoch 17/40\n",
      "200/200 [==============================] - 169s 843ms/step - loss: 0.1269 - accuracy: 0.9572 - val_loss: 0.2283 - val_accuracy: 0.9495\n",
      "Epoch 18/40\n",
      "200/200 [==============================] - 168s 840ms/step - loss: 0.0946 - accuracy: 0.9635 - val_loss: 0.2109 - val_accuracy: 0.9377\n",
      "Epoch 19/40\n",
      "200/200 [==============================] - 168s 840ms/step - loss: 0.1095 - accuracy: 0.9627 - val_loss: 0.1738 - val_accuracy: 0.9592\n",
      "Epoch 20/40\n",
      "200/200 [==============================] - 170s 850ms/step - loss: 0.0890 - accuracy: 0.9678 - val_loss: 0.1923 - val_accuracy: 0.9484\n",
      "Epoch 21/40\n",
      "200/200 [==============================] - 169s 842ms/step - loss: 0.0808 - accuracy: 0.9733 - val_loss: 0.4593 - val_accuracy: 0.9066\n",
      "Epoch 22/40\n",
      "200/200 [==============================] - 168s 837ms/step - loss: 0.1629 - accuracy: 0.9524 - val_loss: 0.3083 - val_accuracy: 0.9377\n",
      "Epoch 23/40\n",
      "200/200 [==============================] - 170s 849ms/step - loss: 0.1037 - accuracy: 0.9627 - val_loss: 0.1527 - val_accuracy: 0.9560\n",
      "Epoch 24/40\n",
      "200/200 [==============================] - 168s 842ms/step - loss: 0.0971 - accuracy: 0.9696 - val_loss: 0.1714 - val_accuracy: 0.9603\n",
      "Epoch 25/40\n",
      "200/200 [==============================] - 170s 851ms/step - loss: 0.0848 - accuracy: 0.9686 - val_loss: 0.2155 - val_accuracy: 0.9495\n",
      "Epoch 26/40\n",
      "200/200 [==============================] - 168s 841ms/step - loss: 0.0885 - accuracy: 0.9707 - val_loss: 0.1693 - val_accuracy: 0.9549\n",
      "Epoch 27/40\n",
      "200/200 [==============================] - 171s 852ms/step - loss: 0.0752 - accuracy: 0.9757 - val_loss: 0.2513 - val_accuracy: 0.9302\n",
      "Epoch 28/40\n",
      "200/200 [==============================] - 169s 843ms/step - loss: 0.0845 - accuracy: 0.9704 - val_loss: 0.1820 - val_accuracy: 0.9549\n",
      "Epoch 29/40\n",
      "200/200 [==============================] - 167s 836ms/step - loss: 0.0778 - accuracy: 0.9736 - val_loss: 0.1855 - val_accuracy: 0.9560\n",
      "Epoch 30/40\n",
      "200/200 [==============================] - 168s 839ms/step - loss: 0.0819 - accuracy: 0.9741 - val_loss: 0.2320 - val_accuracy: 0.9484\n",
      "Epoch 31/40\n",
      "200/200 [==============================] - 168s 837ms/step - loss: 0.0720 - accuracy: 0.9765 - val_loss: 0.2074 - val_accuracy: 0.9517\n",
      "Epoch 32/40\n",
      "200/200 [==============================] - 167s 832ms/step - loss: 0.0779 - accuracy: 0.9752 - val_loss: 0.2201 - val_accuracy: 0.9560\n",
      "Epoch 33/40\n",
      "200/200 [==============================] - 168s 841ms/step - loss: 0.0653 - accuracy: 0.9783 - val_loss: 0.1926 - val_accuracy: 0.9646\n",
      "Epoch 34/40\n",
      "200/200 [==============================] - 169s 842ms/step - loss: 0.0605 - accuracy: 0.9799 - val_loss: 0.3508 - val_accuracy: 0.9420\n",
      "Epoch 35/40\n",
      "200/200 [==============================] - 167s 836ms/step - loss: 0.0709 - accuracy: 0.9778 - val_loss: 0.1576 - val_accuracy: 0.9570\n",
      "Epoch 36/40\n",
      "200/200 [==============================] - 167s 833ms/step - loss: 0.0860 - accuracy: 0.9728 - val_loss: 0.1706 - val_accuracy: 0.9592\n",
      "Epoch 37/40\n",
      "200/200 [==============================] - 167s 835ms/step - loss: 0.0562 - accuracy: 0.9815 - val_loss: 0.2186 - val_accuracy: 0.9560\n",
      "Epoch 38/40\n",
      "200/200 [==============================] - 165s 825ms/step - loss: 0.0669 - accuracy: 0.9765 - val_loss: 0.2499 - val_accuracy: 0.9538\n",
      "Epoch 39/40\n",
      "200/200 [==============================] - 165s 823ms/step - loss: 0.0552 - accuracy: 0.9794 - val_loss: 0.1832 - val_accuracy: 0.9656\n",
      "Epoch 40/40\n",
      "200/200 [==============================] - 164s 820ms/step - loss: 0.0595 - accuracy: 0.9791 - val_loss: 0.1948 - val_accuracy: 0.9517\n"
     ]
    }
   ],
   "source": [
    "his = model.fit(\n",
    "    train_generator,\n",
    "    epochs=nb_epoch,\n",
    "    steps_per_epoch=train_generator.samples // batch_size,\n",
    "    validation_data= validation_generator,\n",
    "    validation_steps=validation_generator.samples // batch_size,\n",
    "#    callbacks=[save_callback] UNCOMMENT THIS LINE TO SAVE BEST VAL_ACC MODEL\n",
    ")"
   ]
  },
  {
   "cell_type": "markdown",
   "id": "3cc3d952",
   "metadata": {
    "papermill": {
     "duration": 0.676732,
     "end_time": "2024-01-22T11:05:31.841924",
     "exception": false,
     "start_time": "2024-01-22T11:05:31.165192",
     "status": "completed"
    },
    "tags": []
   },
   "source": [
    "**predict**"
   ]
  },
  {
   "cell_type": "code",
   "execution_count": 12,
   "id": "56475795",
   "metadata": {
    "_cell_guid": "b1076dfc-b9ad-4769-8c92-a6c4dae69d19",
    "_uuid": "8f2839f25d086af736a60e9eeb907d3b93b6e0e5",
    "execution": {
     "iopub.execute_input": "2024-01-22T11:05:33.292881Z",
     "iopub.status.busy": "2024-01-22T11:05:33.292488Z",
     "iopub.status.idle": "2024-01-22T11:06:00.373453Z",
     "shell.execute_reply": "2024-01-22T11:06:00.372442Z"
    },
    "papermill": {
     "duration": 27.864209,
     "end_time": "2024-01-22T11:06:00.375991",
     "exception": false,
     "start_time": "2024-01-22T11:05:32.511782",
     "status": "completed"
    },
    "tags": []
   },
   "outputs": [
    {
     "name": "stdout",
     "output_type": "stream",
     "text": [
      "794/794 [==============================] - 26s 28ms/step\n",
      "Submission file generated. All done.\n"
     ]
    }
   ],
   "source": [
    "predictions = model.predict(test_generator, steps=test_generator.samples)\n",
    "\n",
    "class_list = []\n",
    "\n",
    "for i in range(0, predictions.shape[0]):\n",
    "  y_class = predictions[i, :].argmax(axis=-1)\n",
    "  class_list += [species_list[y_class]]\n",
    "\n",
    "submission = pd.DataFrame()\n",
    "submission['file'] = test_generator.filenames\n",
    "submission['file'] = submission['file'].str.replace(r'test/', '')\n",
    "submission['species'] = class_list\n",
    "\n",
    "submission.to_csv('submission.csv', index=False)\n",
    "\n",
    "print('Submission file generated. All done.')"
   ]
  },
  {
   "cell_type": "markdown",
   "id": "fca07acd",
   "metadata": {
    "papermill": {
     "duration": 0.734334,
     "end_time": "2024-01-22T11:06:01.822034",
     "exception": false,
     "start_time": "2024-01-22T11:06:01.087700",
     "status": "completed"
    },
    "tags": []
   },
   "source": [
    "# <div style=\"color:#ADEFD1FF;display:inline-block;border-radius:30px;background-color:#00203FFF;font-block:Nexa;overflow:hidden\"><p style=\"padding:15px;color:#ADEFD1FF;overflow:hidden;font-size:70%;letter-spacing:0.5px;margin:0\" id=\"evaluate\"><b> </b> Model Evaluation🧪</p></div>"
   ]
  },
  {
   "cell_type": "code",
   "execution_count": 13,
   "id": "8a6ca650",
   "metadata": {
    "execution": {
     "iopub.execute_input": "2024-01-22T11:06:03.343234Z",
     "iopub.status.busy": "2024-01-22T11:06:03.342524Z",
     "iopub.status.idle": "2024-01-22T11:06:03.839529Z",
     "shell.execute_reply": "2024-01-22T11:06:03.838486Z"
    },
    "papermill": {
     "duration": 1.226795,
     "end_time": "2024-01-22T11:06:03.841743",
     "exception": false,
     "start_time": "2024-01-22T11:06:02.614948",
     "status": "completed"
    },
    "tags": []
   },
   "outputs": [
    {
     "data": {
      "image/png": "[encoded data removed]",
      "text/plain": [
       "<Figure size 800x800 with 2 Axes>"
      ]
     },
     "metadata": {},
     "output_type": "display_data"
    }
   ],
   "source": [
    "acc = his.history['accuracy']\n",
    "val_acc = his.history['val_accuracy']\n",
    "loss=his.history['loss']\n",
    "val_loss=his.history['val_loss']\n",
    "epochs_range = range(nb_epoch)\n",
    "plt.figure(figsize=(8, 8))\n",
    "plt.subplot(1, 2, 1)\n",
    "plt.plot(epochs_range, acc, label='Training Accuracy')\n",
    "plt.plot(epochs_range, val_acc, label='Validation Accuracy')\n",
    "plt.legend(loc='lower right')\n",
    "plt.title('Training and Validation Accuracy')\n",
    "plt.subplot(1, 2, 2)\n",
    "plt.plot(epochs_range, loss, label='Training Loss')\n",
    "plt.plot(epochs_range, val_loss, label='Validation Loss')\n",
    "plt.legend(loc='upper right')\n",
    "plt.title('Training and Validation Loss')\n",
    "plt.show()"
   ]
  },
  {
   "cell_type": "code",
   "execution_count": null,
   "id": "08a4f71f",
   "metadata": {
    "papermill": {
     "duration": 0.702189,
     "end_time": "2024-01-22T11:06:05.267687",
     "exception": false,
     "start_time": "2024-01-22T11:06:04.565498",
     "status": "completed"
    },
    "tags": []
   },
   "outputs": [],
   "source": []
  }
 ],
 "metadata": {
  "kaggle": {
   "accelerator": "gpu",
   "dataSources": [
    {
     "databundleVersionId": 862031,
     "sourceId": 7880,
     "sourceType": "competition"
    }
   ],
   "isGpuEnabled": true,
   "isInternetEnabled": true,
   "language": "python",
   "sourceType": "notebook"
  },
  "kernelspec": {
   "display_name": "Python 3",
   "language": "python",
   "name": "python3"
  },
  "language_info": {
   "codemirror_mode": {
    "name": "ipython",
    "version": 3
   },
   "file_extension": ".py",
   "mimetype": "text/x-python",
   "name": "python",
   "nbconvert_exporter": "python",
   "pygments_lexer": "ipython3",
   "version": "3.10.12"
  },
  "papermill": {
   "default_parameters": {},
   "duration": 6937.837345,
   "end_time": "2024-01-22T11:06:09.406407",
   "environment_variables": {},
   "exception": null,
   "input_path": "__notebook__.ipynb",
   "output_path": "__notebook__.ipynb",
   "parameters": {},
   "start_time": "2024-01-22T09:10:31.569062",
   "version": "2.4.0"
  }
 },
 "nbformat": 4,
 "nbformat_minor": 5
}
